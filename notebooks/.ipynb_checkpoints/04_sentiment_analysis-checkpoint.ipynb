{
 "cells": [
  {
   "cell_type": "markdown",
   "id": "ac7d0cce-decc-4a45-8e85-24429d5448fd",
   "metadata": {},
   "source": [
    "## Notebook 4: Sentiment Analysis - Overview\n",
    "\n",
    "**Objective**  \n",
    "Tag 1.26M customer tweets from the TWCS dataset with sentiment labels (`POSITIVE`/`NEGATIVE`/`NEUTRAL`) using VADER for historical data (73% accuracy, 21 min runtime) and DistilBERT for real-time inputs (83% accuracy). Validate models on the UCI dataset and visualize sentiment vs. churn risk for business insights.\n",
    "\n",
    "**Inputs**  \n",
    "- `../data/processed/cleaned_twcs.csv`: ~1.26M rows with columns `customer_text`, `cleaned_text`, `sentiment` (VADER scores), `churn_label`, `response_time`, etc.  \n",
    "- `../data/processed/cleaned_uci.csv`: 1,000 rows with `text`, `cleaned_text`, `label` for validation.\n",
    "\n",
    "**Outputs**  \n",
    "- `../data/processed/sentiment_twcs.csv`: TWCS dataset with `sentiment` (numeric VADER scores) and `sentiment_label` (categorical labels).  \n",
    "- `../figures/sentiment_confusion_matrix.png`: Confusion matrix for DistilBERT on UCI.  \n",
    "- `../figures/sentiment_vs_churn.png`: Sentiment vs. churn visualization.\n",
    "  \n",
    "**Datasets**:\n",
    "- **TWCS**: `../data/processed/cleaned_twcs.csv` (~1.26M rows, customer-agent pairs).\n",
    "- **UCI**: `../data/processed/cleaned_uci.csv` (1,000 rows, labeled sentences)."
   ]
  },
  {
   "cell_type": "markdown",
   "id": "3915603c-5e7a-42e3-9716-cf53071b0e2c",
   "metadata": {},
   "source": [
    "## 1. Environment Setup & Imports\n",
    "\n",
    "**Purpose**:  \n",
    "Initialize the Python environment by importing required libraries for data processing, visualization, sentiment analysis, and model evaluation. Suppress warnings for clean output."
   ]
  },
  {
   "cell_type": "code",
   "execution_count": 6,
   "id": "9ff06699-61d4-452c-b170-7dc32b17341b",
   "metadata": {},
   "outputs": [
    {
     "name": "stdout",
     "output_type": "stream",
     "text": [
      "✅ Environment ready.\n"
     ]
    }
   ],
   "source": [
    "# =============================================================================\n",
    "# 1. ENVIRONMENT SETUP & IMPORTS\n",
    "# =============================================================================\n",
    "import pandas as pd\n",
    "import numpy as np\n",
    "import matplotlib.pyplot as plt\n",
    "import seaborn as sns\n",
    "from sklearn.metrics import classification_report, ConfusionMatrixDisplay\n",
    "from transformers import pipeline\n",
    "import warnings\n",
    "warnings.filterwarnings('ignore')\n",
    "\n",
    "print(\"✅ Environment ready.\")"
   ]
  },
  {
   "cell_type": "markdown",
   "id": "41646f2a-4517-4236-9f61-b5e3a452286c",
   "metadata": {},
   "source": [
    "## 2. Load Data\n",
    "\n",
    "**Purpose**:  \n",
    "Load the cleaned TWCS and UCI datasets from the `processed` folder. Verify their shapes and preview key columns to ensure data integrity.\n",
    "\n",
    "**Inputs**:  \n",
    "- `../data/processed/cleaned_twcs.csv`: ~1.26M customer-agent pairs with `customer_text`, `cleaned_text`, `churn_label`, etc.  \n",
    "- `../data/processed/cleaned_uci.csv`: 1,000 labeled sentences with `text`, `cleaned_text`, `label`.  "
   ]
  },
  {
   "cell_type": "code",
   "execution_count": 8,
   "id": "3f152979-69f7-4bd1-b9c4-a35dc2a6a5aa",
   "metadata": {},
   "outputs": [
    {
     "name": "stdout",
     "output_type": "stream",
     "text": [
      "✅ TWCS loaded. Shape: (1261888, 21)\n",
      "                                       customer_text  \\\n",
      "0  @sprintcare I have sent several private messag...   \n",
      "1                                 @sprintcare I did.   \n",
      "2          @sprintcare is the worst customer service   \n",
      "3  @sprintcare You gonna magically change your co...   \n",
      "4  @sprintcare Since I signed up with you....Sinc...   \n",
      "\n",
      "                                        cleaned_text  churn_label  \n",
      "0  i understand i would like to assist you we wou...            0  \n",
      "1  please send us a private message so that we ca...            0  \n",
      "2  can you please send us a private message so th...            0  \n",
      "3  this is saddening to hear please shoot us a dm...            0  \n",
      "4  we understand your concerns and wed like for y...            0  \n",
      "\n",
      "✅ UCI loaded. Shape: (1000, 3)\n",
      "                                                text  \\\n",
      "0  So there is no way for me to plug it in here i...   \n",
      "1                        Good case, Excellent value.   \n",
      "2                             Great for the jawbone.   \n",
      "3  Tied to charger for conversations lasting more...   \n",
      "4                                  The mic is great.   \n",
      "\n",
      "                                        cleaned_text  label  \n",
      "0  so there is no way for me to plug it in here i...      0  \n",
      "1                          good case excellent value      1  \n",
      "2                              great for the jawbone      1  \n",
      "3  tied to charger for conversations lasting more...      0  \n",
      "4                                   the mic is great      1  \n"
     ]
    }
   ],
   "source": [
    "# =============================================================================\n",
    "# 2. LOAD DATA\n",
    "# =============================================================================\n",
    "# Load TWCS dataset\n",
    "df = pd.read_csv('../data/processed/cleaned_twcs.csv', encoding='utf-8')\n",
    "print(\"✅ TWCS loaded. Shape:\", df.shape)\n",
    "print(df[['customer_text', 'cleaned_text', 'churn_label']].head())\n",
    "\n",
    "# Load UCI dataset\n",
    "df_uci = pd.read_csv('../data/processed/cleaned_uci.csv', encoding='utf-8')\n",
    "print(\"\\n✅ UCI loaded. Shape:\", df_uci.shape)\n",
    "print(df_uci[['text', 'cleaned_text', 'label']].head())"
   ]
  },
  {
   "cell_type": "markdown",
   "id": "bf64eb04-5f49-4fac-85e8-2ba1c91e91f7",
   "metadata": {},
   "source": [
    "## Data Inspection\n",
    "Inspects the TWCS dataset for missing values and ensures `cleaned_text` is ready for sentiment tagging."
   ]
  },
  {
   "cell_type": "code",
   "execution_count": 10,
   "id": "25238649-21e4-403b-9282-ab896b298292",
   "metadata": {},
   "outputs": [
    {
     "name": "stdout",
     "output_type": "stream",
     "text": [
      "\n",
      "--- Inspecting TWCS Dataset ---\n",
      "Missing values:\n",
      " response_tweet_id      804735\n",
      "cleaned_text             2507\n",
      "author_id                   0\n",
      "inbound                     0\n",
      "created_at                  0\n",
      "tweet_id                    0\n",
      "text                        0\n",
      "customer_tweet_id           0\n",
      "customer_text               0\n",
      "customer_created_at         0\n",
      "dtype: int64\n",
      "\n",
      "Sample customer_text and cleaned_text:\n",
      "                                       customer_text  \\\n",
      "0  @sprintcare I have sent several private messag...   \n",
      "1                                 @sprintcare I did.   \n",
      "2          @sprintcare is the worst customer service   \n",
      "3  @sprintcare You gonna magically change your co...   \n",
      "4  @sprintcare Since I signed up with you....Sinc...   \n",
      "\n",
      "                                        cleaned_text  \n",
      "0  i understand i would like to assist you we wou...  \n",
      "1  please send us a private message so that we ca...  \n",
      "2  can you please send us a private message so th...  \n",
      "3  this is saddening to hear please shoot us a dm...  \n",
      "4  we understand your concerns and wed like for y...  \n",
      "✅ Cleaned_text prepared for analysis.\n"
     ]
    }
   ],
   "source": [
    "# =============================================================================\n",
    "# 2. DATA INSPECTION\n",
    "# =============================================================================\n",
    "print(\"\\n--- Inspecting TWCS Dataset ---\")\n",
    "print(\"Missing values:\\n\", df.isna().sum().sort_values(ascending=False).head(10))\n",
    "print(\"\\nSample customer_text and cleaned_text:\")\n",
    "print(df[['customer_text', 'cleaned_text']].head(5))\n",
    "\n",
    "# Ensure cleaned_text is string\n",
    "df['cleaned_text'] = df['cleaned_text'].fillna('').astype(str)\n",
    "print(\"✅ Cleaned_text prepared for analysis.\")"
   ]
  },
  {
   "cell_type": "markdown",
   "id": "42991bd1-f810-4c43-bf9f-d185d37bd731",
   "metadata": {},
   "source": [
    "## Sentiment Tagging (VADER-Based)\n",
    "\n",
    "**Description**  \n",
    "Tags 1.26M TWCS tweets with VADER sentiment labels (`POSITIVE`/`NEGATIVE`/`NEUTRAL`) based on existing or recomputed VADER scores. Used for historical data to save time (21 min) vs. DistilBERT (~2–6 hours). DistilBERT is used for real-time inputs in Streamlit.\n",
    "\n",
    "**Inputs**  \n",
    "- `df`: DataFrame with `cleaned_text`\n",
    "\n",
    "**Outputs**  \n",
    "- `df`: Updated with `sentiment` (numeric) and `sentiment_label` (categorical)  \n",
    "- Saves to `../data/processed/sentiment_twcs.csv`\n"
   ]
  },
  {
   "cell_type": "code",
   "execution_count": 11,
   "id": "79cb5eee-df14-45f5-aacc-260b7982cdca",
   "metadata": {},
   "outputs": [
    {
     "name": "stdout",
     "output_type": "stream",
     "text": [
      "\n",
      "--- Tagging TWCS with VADER ---\n",
      "✅ Found 'sentiment' column with VADER scores.\n"
     ]
    },
    {
     "name": "stderr",
     "output_type": "stream",
     "text": [
      "[nltk_data] Downloading package vader_lexicon to\n",
      "[nltk_data]     C:\\Users\\DELL\\AppData\\Roaming\\nltk_data...\n",
      "[nltk_data]   Package vader_lexicon is already up-to-date!\n"
     ]
    },
    {
     "name": "stdout",
     "output_type": "stream",
     "text": [
      "✅ Sentiment tagging complete with VADER.\n",
      "                                       customer_text  \\\n",
      "0  @sprintcare I have sent several private messag...   \n",
      "1                                 @sprintcare I did.   \n",
      "2          @sprintcare is the worst customer service   \n",
      "3  @sprintcare You gonna magically change your co...   \n",
      "4  @sprintcare Since I signed up with you....Sinc...   \n",
      "\n",
      "                                        cleaned_text  sentiment  \\\n",
      "0  i understand i would like to assist you we wou...     0.6369   \n",
      "1  please send us a private message so that we ca...     0.4767   \n",
      "2  can you please send us a private message so th...     0.7152   \n",
      "3  this is saddening to hear please shoot us a dm...    -0.5106   \n",
      "4  we understand your concerns and wed like for y...     0.5859   \n",
      "\n",
      "  sentiment_label  \n",
      "0        POSITIVE  \n",
      "1        POSITIVE  \n",
      "2        POSITIVE  \n",
      "3        NEGATIVE  \n",
      "4        POSITIVE  \n",
      "✅ Saved dataset to '../data/processed/sentiment_twcs.csv'\n"
     ]
    }
   ],
   "source": [
    "# =============================================================================\n",
    "# 3. SENTIMENT TAGGING (VADER-BASED)\n",
    "# =============================================================================\n",
    "print(\"\\n--- Tagging TWCS with VADER ---\")\n",
    "from nltk.sentiment import SentimentIntensityAnalyzer\n",
    "import nltk\n",
    "nltk.download('vader_lexicon')\n",
    "\n",
    "# Ensure cleaned_text is string\n",
    "df['cleaned_text'] = df['cleaned_text'].fillna('').astype(str)\n",
    "\n",
    "# Initialize VADER\n",
    "sia = SentimentIntensityAnalyzer()\n",
    "\n",
    "# Check if 'sentiment' exists, recompute if missing\n",
    "if 'sentiment' not in df.columns:\n",
    "    print(\"⚠️ 'sentiment' column missing. Recomputing VADER scores...\")\n",
    "    df['sentiment'] = df['cleaned_text'].apply(lambda x: sia.polarity_scores(x)['compound'])\n",
    "else:\n",
    "    print(\"✅ Found 'sentiment' column with VADER scores.\")\n",
    "\n",
    "# Convert VADER scores to labels\n",
    "def vader_to_label(score):\n",
    "    if score < -0.1:\n",
    "        return 'NEGATIVE'\n",
    "    elif score > 0.1:\n",
    "        return 'POSITIVE'\n",
    "    else:\n",
    "        return 'NEUTRAL'\n",
    "\n",
    "df['sentiment_label'] = df['sentiment'].apply(vader_to_label)\n",
    "print(\"✅ Sentiment tagging complete with VADER.\")\n",
    "print(df[['customer_text', 'cleaned_text', 'sentiment', 'sentiment_label']].head())\n",
    "\n",
    "# Save results\n",
    "df.to_csv('../data/processed/sentiment_twcs.csv', index=False)\n",
    "print(\"✅ Saved dataset to '../data/processed/sentiment_twcs.csv'\")"
   ]
  },
  {
   "cell_type": "markdown",
   "id": "d9e7678a-39cd-4e74-8e01-ff5f09092af0",
   "metadata": {},
   "source": [
    "## Validate Sentiment Models\n",
    "\n",
    "**Description**  \n",
    "Validates VADER and DistilBERT on the UCI dataset (~1,000 rows) to compare accuracy. Visualizes DistilBERT’s confusion matrix for portfolio appeal.\n",
    "\n",
    "**Inputs**  \n",
    "- `df_uci`: UCI DataFrame with `cleaned_text`, `label`  \n",
    "- `sia`: VADER analyzer  \n",
    "- DistilBERT pipeline\n",
    "\n",
    "**Outputs**  \n",
    "- Prints classification reports for VADER and DistilBERT  \n",
    "- Saves `../figures/sentiment_confusion_matrix.png`\n"
   ]
  },
  {
   "cell_type": "code",
   "execution_count": 12,
   "id": "afce740a-b630-465c-844e-54724e95e369",
   "metadata": {},
   "outputs": [
    {
     "name": "stdout",
     "output_type": "stream",
     "text": [
      "\n",
      "--- Validating VADER and DistilBERT on UCI Dataset ---\n"
     ]
    },
    {
     "name": "stderr",
     "output_type": "stream",
     "text": [
      "Device set to use cpu\n"
     ]
    },
    {
     "name": "stdout",
     "output_type": "stream",
     "text": [
      "\n",
      "VADER Metrics:\n",
      "              precision    recall  f1-score   support\n",
      "\n",
      "    Negative       0.83      0.86      0.85       500\n",
      "    Positive       0.86      0.83      0.84       500\n",
      "\n",
      "    accuracy                           0.84      1000\n",
      "   macro avg       0.85      0.84      0.84      1000\n",
      "weighted avg       0.85      0.84      0.84      1000\n",
      "\n",
      "\n",
      "DistilBERT Metrics:\n",
      "              precision    recall  f1-score   support\n",
      "\n",
      "    Negative       0.90      0.95      0.92       500\n",
      "    Positive       0.95      0.89      0.92       500\n",
      "\n",
      "    accuracy                           0.92      1000\n",
      "   macro avg       0.92      0.92      0.92      1000\n",
      "weighted avg       0.92      0.92      0.92      1000\n",
      "\n"
     ]
    },
    {
     "data": {
      "image/png": "[encoded data removed]",
      "text/plain": [
       "<Figure size 640x480 with 2 Axes>"
      ]
     },
     "metadata": {},
     "output_type": "display_data"
    }
   ],
   "source": [
    "# =============================================================================\n",
    "# 4. VALIDATE SENTIMENT MODEL\n",
    "# =============================================================================\n",
    "print(\"\\n--- Validating VADER and DistilBERT on UCI Dataset ---\")\n",
    "from transformers import pipeline\n",
    "from sklearn.metrics import classification_report, ConfusionMatrixDisplay\n",
    "import matplotlib.pyplot as plt\n",
    "\n",
    "# VADER predictions\n",
    "df_uci['vader_pred'] = df_uci['cleaned_text'].apply(lambda x: vader_to_label(sia.polarity_scores(str(x))['compound']) if pd.notna(x) else 'NEUTRAL')\n",
    "df_uci['vader_pred_binary'] = df_uci['vader_pred'].map({'POSITIVE': 1, 'NEGATIVE': 0, 'NEUTRAL': 0})\n",
    "\n",
    "# DistilBERT predictions\n",
    "sentiment_analyzer = pipeline('sentiment-analysis', model='distilbert-base-uncased-finetuned-sst-2-english', device=-1)\n",
    "df_uci['distilbert_pred'] = df_uci['cleaned_text'].apply(lambda x: sentiment_analyzer(str(x)[:512])[0]['label'] if pd.notna(x) else 'NEUTRAL')\n",
    "df_uci['distilbert_pred_binary'] = df_uci['distilbert_pred'].map({'POSITIVE': 1, 'NEGATIVE': 0, 'NEUTRAL': 0})\n",
    "\n",
    "# Metrics\n",
    "print(\"\\nVADER Metrics:\")\n",
    "print(classification_report(df_uci['label'], df_uci['vader_pred_binary'], target_names=['Negative', 'Positive']))\n",
    "print(\"\\nDistilBERT Metrics:\")\n",
    "print(classification_report(df_uci['label'], df_uci['distilbert_pred_binary'], target_names=['Negative', 'Positive']))\n",
    "\n",
    "# Confusion Matrix (DistilBERT)\n",
    "ConfusionMatrixDisplay.from_predictions(df_uci['label'], df_uci['distilbert_pred_binary'], display_labels=['Negative', 'Positive'], cmap='Blues')\n",
    "plt.title('DistilBERT UCI Sentiment Confusion Matrix')\n",
    "plt.savefig('../figures/sentiment_confusion_matrix.png')\n",
    "plt.show()"
   ]
  },
  {
   "cell_type": "markdown",
   "id": "17d3080a-1771-4900-bbe4-3d5db91c575e",
   "metadata": {},
   "source": [
    "## Visualize Sentiment vs. Churn\n",
    "\n",
    "**Description**  \n",
    "Visualizes the relationship between sentiment and churn risk to demonstrate business value (e.g., negative sentiment correlates with higher churn).\n",
    "\n",
    "**Inputs**  \n",
    "- `df`: TWCS DataFrame with `sentiment_label`, `churn_label`\n",
    "\n",
    "**Outputs**  \n",
    "- Saves `../figures/sentiment_vs_churn.png`\n"
   ]
  },
  {
   "cell_type": "code",
   "execution_count": 13,
   "id": "0fa16989-598a-4af6-99a9-bae3c4eb7081",
   "metadata": {},
   "outputs": [
    {
     "name": "stdout",
     "output_type": "stream",
     "text": [
      "\n",
      "--- Visualizing Sentiment vs. Churn ---\n"
     ]
    },
    {
     "data": {
      "image/png": "[encoded data removed]",
      "text/plain": [
       "<Figure size 800x600 with 1 Axes>"
      ]
     },
     "metadata": {},
     "output_type": "display_data"
    },
    {
     "name": "stdout",
     "output_type": "stream",
     "text": [
      "✅ Saved visualization to '../figures/sentiment_vs_churn.png'\n"
     ]
    }
   ],
   "source": [
    "# =============================================================================\n",
    "# 5. VISUALIZE SENTIMENT VS. CHURN\n",
    "# =============================================================================\n",
    "print(\"\\n--- Visualizing Sentiment vs. Churn ---\")\n",
    "plt.figure(figsize=(8, 6))\n",
    "sns.countplot(x='sentiment_label', hue='churn_label', data=df)\n",
    "plt.title('Sentiment vs. Churn Risk')\n",
    "plt.xlabel('Sentiment')\n",
    "plt.ylabel('Count')\n",
    "plt.legend(['No Churn', 'Churn Risk'])\n",
    "plt.savefig('../figures/sentiment_vs_churn.png')\n",
    "plt.show()\n",
    "print(\"✅ Saved visualization to '../figures/sentiment_vs_churn.png'\")"
   ]
  },
  {
   "cell_type": "code",
   "execution_count": 16,
   "id": "b7b5b1e1-b55c-40d8-8067-137da22df2a1",
   "metadata": {},
   "outputs": [
    {
     "name": "stdout",
     "output_type": "stream",
     "text": [
      "\n",
      "--- Visualizing Sentiment vs. Churn (Percentage-Based, Fixed) ---\n"
     ]
    },
    {
     "data": {
      "image/png": "[encoded data removed]",
      "text/plain": [
       "<Figure size 800x600 with 1 Axes>"
      ]
     },
     "metadata": {},
     "output_type": "display_data"
    },
    {
     "name": "stdout",
     "output_type": "stream",
     "text": [
      "✅ Saved visualization to '../figures/sentiment_vs_churn_percentage.png'\n"
     ]
    }
   ],
   "source": [
    "# =============================================================================\n",
    "# 5. VISUALIZE SENTIMENT VS. CHURN (PERCENTAGE-BASED, FIXED)\n",
    "# =============================================================================\n",
    "print(\"\\n--- Visualizing Sentiment vs. Churn (Percentage-Based, Fixed) ---\")\n",
    "\n",
    "# Calculate percentage for each sentiment_label and churn_label\n",
    "counts = df.groupby(['sentiment_label', 'churn_label']).size().unstack(fill_value=0)\n",
    "percentages = counts.div(counts.sum(axis=1), axis=0) * 100\n",
    "\n",
    "# Plot stacked bar chart with percentages\n",
    "ax = percentages.plot(kind='bar', stacked=True, figsize=(8, 6), color=['#4CAF50', '#F44336'])\n",
    "plt.title('Percentage of Churn vs. No Churn by Sentiment')\n",
    "plt.xlabel('Sentiment')\n",
    "plt.ylabel('Percentage (%)')\n",
    "plt.xticks(rotation=0)\n",
    "\n",
    "# Add percentage labels on bars\n",
    "for i in ax.containers:\n",
    "    ax.bar_label(i, fmt='%.1f%%', label_type='center')\n",
    "\n",
    "# Adjust legend to avoid overlap\n",
    "plt.legend(['No Churn (0)', 'Churn Risk (1)'], loc='upper left', bbox_to_anchor=(1, 1))\n",
    "\n",
    "plt.tight_layout()\n",
    "plt.savefig('../figures/sentiment_vs_churn_percentage.png')\n",
    "plt.show()\n",
    "print(\"✅ Saved visualization to '../figures/sentiment_vs_churn_percentage.png'\")"
   ]
  },
  {
   "cell_type": "code",
   "execution_count": null,
   "id": "a7ea3b5f-1835-471a-922d-e7804692c30f",
   "metadata": {},
   "outputs": [],
   "source": []
  }
 ],
 "metadata": {
  "kernelspec": {
   "display_name": "Python 3 (ipykernel)",
   "language": "python",
   "name": "python3"
  },
  "language_info": {
   "codemirror_mode": {
    "name": "ipython",
    "version": 3
   },
   "file_extension": ".py",
   "mimetype": "text/x-python",
   "name": "python",
   "nbconvert_exporter": "python",
   "pygments_lexer": "ipython3",
   "version": "3.13.2"
  }
 },
 "nbformat": 4,
 "nbformat_minor": 5
}
